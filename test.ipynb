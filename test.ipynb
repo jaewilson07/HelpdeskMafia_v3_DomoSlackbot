{
 "cells": [
  {
   "cell_type": "code",
   "execution_count": 1,
   "metadata": {},
   "outputs": [],
   "source": [
    "# %pip install -e .\n",
    "# %pip install langchain_neo4j\n",
    "# %pip install rank-bm25\n",
    "# %pip install vecs"
   ]
  },
  {
   "cell_type": "code",
   "execution_count": 2,
   "metadata": {},
   "outputs": [
    {
     "name": "stderr",
     "output_type": "stream",
     "text": [
      "python-dotenv could not parse statement starting at line 20\n"
     ]
    }
   ],
   "source": [
    "from dotenv import load_dotenv\n",
    "\n",
    "assert load_dotenv(override=True)"
   ]
  },
  {
   "cell_type": "code",
   "execution_count": null,
   "metadata": {},
   "outputs": [
    {
     "data": {
      "text/plain": [
       "'postgresql://postgres:%27Y0TF%5Elqf%22%7Cvb%7C/2TYM37@db.dwgvcexnrjfprpvptwmq.supabase.co:5432/postgres'"
      ]
     },
     "execution_count": 3,
     "metadata": {},
     "output_type": "execute_result"
    }
   ],
   "source": [
    "from src.utils.supabase import generate_supabase_conection_string\n",
    "import urllib\n",
    "import os\n",
    "supabase_password = os.environ[\"SUPABASE_PASSWORD\"]\n",
    "supabase_connection_string = os.environ[\"SUPABASE_CONNECTION_STRING\"]\n",
    "\n",
    "def generate_supabase_conection_string(base_string, supabase_password, username=None):\n",
    "    base_string = base_string.replace(\"[YOUR-PASSWORD]\", urllib.parse.quote(supabase_password))\n",
    "\n",
    "    if username:\n",
    "        base_string = base_string.replace(\"[YOUR-USERNAME]\", urllib.parse.quote(username))\n",
    "\n",
    "    return base_string.strip()\n",
    "\n",
    "\n",
    "\n",
    "supabase_connection_string = generate_supabase_conection_string(supabase_connection_string, supabase_password)\n"
   ]
  },
  {
   "cell_type": "code",
   "execution_count": null,
   "metadata": {},
   "outputs": [],
   "source": [
    "from services.routes.mem0 import get_relevant_user_memories, add_user_memories, memory\n",
    "from pprint import pprint\n",
    "pprint((memory.get_all(user_id=\"alice\")))\n",
    "\n",
    "\n",
    "messages = [\n",
    "    {\"role\": \"user\", \"content\": \"I'm planning to watch a movie tonight. Any recommendations?\"},\n",
    "    {\"role\": \"assistant\", \"content\": \"How about a thriller movies? They can be quite engaging.\"},\n",
    "    {\"role\": \"user\", \"content\": \"I'm not a big fan of thriller movies but I love sci-fi movies.\"},\n",
    "    {\"role\": \"assistant\", \"content\": \"Got it! I'll avoid thriller recommendations and suggest sci-fi movies in the future.\"}\n",
    "]\n",
    "\n",
    "await add_user_memories(user_id='alice', messages=messages)\n",
    "\n",
    "# await get_relevant_user_memories(message=\"what do you like\", user_id=\"alice\")"
   ]
  },
  {
   "cell_type": "code",
   "execution_count": null,
   "metadata": {},
   "outputs": [],
   "source": [
    "from services.routes.mem0 import get_relevant_user_memories, add_user_memories\n",
    "from openai import AsyncOpenAI\n",
    "import os\n",
    "\n",
    "openai_api_key = os.environ[\"OPENAI_API_KEY\"]\n",
    "openai_model = os.environ[\"OPENAI_MODEL\"]\n",
    "openai_client = AsyncOpenAI(api_key=openai_api_key)\n",
    "\n",
    "\n",
    "async def chat_with_memories(user_message, user_id=\"alice\", top_k=5):\n",
    "    relevant_memories = await get_relevant_user_memories(user_message, user_id=user_id, top_k=top_k)\n",
    "\n",
    "    print(relevant_memories, type(relevant_memories))\n",
    "\n",
    "    memories_str = (\n",
    "        \"\\n\".join(f\" - {entry.get('memory')}\" for entry in relevant_memories['results'] if entry)\n",
    "        if relevant_memories\n",
    "        else \"No relevant memories found.\"\n",
    "    )\n",
    "    system_prompt = f\"\"\"you are a helpful assistant. Answer the question using memories provided.\n",
    "    User Memories: \\n{memories_str}\"\"\"\n",
    "\n",
    "    messages = [{\"role\": \"system\", \"content\": system_prompt}, {\"role\": \"user\", \"content\": user_message}]\n",
    "\n",
    "    response = await openai_client.chat.completions.create(model=openai_model, messages=messages)\n",
    "    assistant_response = response.choices[0].message.content.strip()\n",
    "\n",
    "    messages.append({\"role\": \"assistant\", \"content\": assistant_response})\n",
    "\n",
    "    await add_user_memories(user_id=user_id, messages=messages)\n",
    "\n",
    "    return assistant_response"
   ]
  },
  {
   "cell_type": "code",
   "execution_count": null,
   "metadata": {},
   "outputs": [],
   "source": [
    "# while True:\n",
    "#     user_inputs = input(\"You: \").strip()\n",
    "#     if user_inputs.lower() in [\"exit\", \"quit\", \"q\"]:\n",
    "#         print(\"Exiting chat...\")\n",
    "#         break\n",
    "#     print(f\"AI: {(await chat_with_memories(user_inputs))}\")"
   ]
  },
  {
   "cell_type": "code",
   "execution_count": null,
   "metadata": {},
   "outputs": [],
   "source": [
    "from src.utils.pydantic_agent_generator import generate_supabase_string\n",
    "\n",
    "# Test the generate_supabase_string function\n",
    "username = \"user@name\"\n",
    "password = \"pass#word\"\n",
    "host = \"localhost\"\n",
    "database = \"testdb\"\n",
    "\n",
    "connection_string = generate_supabase_string(username, password, host, database)\n",
    "print(\"Generated connection string:\", connection_string)"
   ]
  }
 ],
 "metadata": {
  "kernelspec": {
   "display_name": ".venv",
   "language": "python",
   "name": "python3"
  },
  "language_info": {
   "codemirror_mode": {
    "name": "ipython",
    "version": 3
   },
   "file_extension": ".py",
   "mimetype": "text/x-python",
   "name": "python",
   "nbconvert_exporter": "python",
   "pygments_lexer": "ipython3",
   "version": "3.11.6"
  }
 },
 "nbformat": 4,
 "nbformat_minor": 2
}
