{
 "cells": [
  {
   "cell_type": "code",
   "execution_count": null,
   "metadata": {},
   "outputs": [],
   "source": [
    "# %pip install fastapi\n",
    "# %pip install uvicorn\n",
    "# %pip install aiohttp"
   ]
  },
  {
   "cell_type": "code",
   "execution_count": null,
   "metadata": {},
   "outputs": [
    {
     "name": "stdout",
     "output_type": "stream",
     "text": [
      "Bolt app is running!\n"
     ]
    },
    {
     "name": "stderr",
     "output_type": "stream",
     "text": [
      "Unhandled request ({'type': None, 'command': '/sample-command'})\n",
      "---\n",
      "[Suggestion] You can handle this type of event with the following listener function:\n",
      "\n",
      "@app.command(\"/sample-command\")\n",
      "def handle_some_command(ack, body, logger):\n",
      "    ack()\n",
      "    logger.info(body)\n",
      "\n",
      "Unhandled request ({'type': 'event_callback', 'event': {'type': 'app_mention'}})\n",
      "---\n",
      "[Suggestion] You can handle this type of event with the following listener function:\n",
      "\n",
      "@app.event(\"app_mention\")\n",
      "def handle_app_mention_events(body, logger):\n",
      "    logger.info(body)\n",
      "\n",
      "Unhandled request ({'type': 'event_callback', 'event': {'type': 'app_mention'}})\n",
      "---\n",
      "[Suggestion] You can handle this type of event with the following listener function:\n",
      "\n",
      "@app.event(\"app_mention\")\n",
      "def handle_app_mention_events(body, logger):\n",
      "    logger.info(body)\n",
      "\n",
      "Unhandled request ({'type': 'event_callback', 'event': {'type': 'message'}})\n",
      "---\n",
      "[Suggestion] You can handle this type of event with the following listener function:\n",
      "\n",
      "@app.event(\"message\")\n",
      "def handle_message_events(body, logger):\n",
      "    logger.info(body)\n",
      "\n",
      "Unhandled request ({'type': 'event_callback', 'event': {'type': 'message'}})\n",
      "---\n",
      "[Suggestion] You can handle this type of event with the following listener function:\n",
      "\n",
      "@app.event(\"message\")\n",
      "def handle_message_events(body, logger):\n",
      "    logger.info(body)\n",
      "\n"
     ]
    },
    {
     "name": "stdout",
     "output_type": "stream",
     "text": [
      "{'user': 'U012A577URL', 'type': 'message', 'ts': '1743136686.405889', 'client_msg_id': '2b72dab0-2a03-4adc-9b2d-e7adc436c34e', 'text': '<@U08J0GT9QAX> hello', 'team': 'T012H3JSC83', 'blocks': [{'type': 'rich_text', 'block_id': 'AcqZ/', 'elements': [{'type': 'rich_text_section', 'elements': [{'type': 'user', 'user_id': 'U08J0GT9QAX'}, {'type': 'text', 'text': ' hello'}]}]}], 'channel': 'C08JLCQQYAU', 'event_ts': '1743136686.405889', 'channel_type': 'channel'}\n"
     ]
    },
    {
     "name": "stderr",
     "output_type": "stream",
     "text": [
      "Unhandled request ({'type': 'event_callback', 'event': {'type': 'app_mention'}})\n",
      "---\n",
      "[Suggestion] You can handle this type of event with the following listener function:\n",
      "\n",
      "@app.event(\"app_mention\")\n",
      "def handle_app_mention_events(body, logger):\n",
      "    logger.info(body)\n",
      "\n",
      "Unhandled request ({'type': 'event_callback', 'event': {'type': 'message'}})\n",
      "---\n",
      "[Suggestion] You can handle this type of event with the following listener function:\n",
      "\n",
      "@app.event(\"message\")\n",
      "def handle_message_events(body, logger):\n",
      "    logger.info(body)\n",
      "\n"
     ]
    }
   ],
   "source": [
    "import os\n",
    "from slack_bolt import App\n",
    "from slack_bolt.adapter.socket_mode import SocketModeHandler\n",
    "\n",
    "# Initializes your app with your bot token and signing secret\n",
    "app = App(token=os.environ.get(\"SLACK_BOT_TOKEN\"),\n",
    "          signing_secret=os.environ.get(\"SLACK_SIGNING_SECRET\"))\n",
    "\n",
    "\n",
    "# Listens to incoming messages that contain \"hello\"\n",
    "# To learn available listener arguments,\n",
    "# visit https://tools.slack.dev/bolt-python/api-docs/slack_bolt/kwargs_injection/args.html\n",
    "@app.event(\"app_mention\")\n",
    "def handle_app_mention_events(message, say):\n",
    "    print(message, say)\n",
    "    # say() sends a message to the channel where the event was triggered\n",
    "    say(f\"Hey there <@{message['user']}>!\")\n",
    "\n",
    "@app.event(\"app_mention\")\n",
    "def event_test(say):\n",
    "    say(\"Hi there!\")\n",
    "\n",
    "# Start your app\n",
    "if __name__ == \"__main__\":\n",
    "    SocketModeHandler(app, os.environ[\"SLACK_APP_TOKEN\"]).start()\n"
   ]
  }
 ],
 "metadata": {
  "kernelspec": {
   "display_name": ".venv",
   "language": "python",
   "name": "python3"
  },
  "language_info": {
   "codemirror_mode": {
    "name": "ipython",
    "version": 3
   },
   "file_extension": ".py",
   "mimetype": "text/x-python",
   "name": "python",
   "nbconvert_exporter": "python",
   "pygments_lexer": "ipython3",
   "version": "3.10.9"
  }
 },
 "nbformat": 4,
 "nbformat_minor": 2
}
